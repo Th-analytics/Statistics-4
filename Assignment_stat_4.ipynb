{
 "cells": [
  {
   "cell_type": "code",
   "execution_count": 1,
   "id": "0ab13368",
   "metadata": {},
   "outputs": [],
   "source": [
    "import numpy as np\n",
    "import scipy.stats as stats\n",
    "import pandas as pd"
   ]
  },
  {
   "attachments": {
    "1.PNG": {
     "image/png": "[encoded data removed]"
    }
   },
   "cell_type": "markdown",
   "id": "65b95dbb",
   "metadata": {},
   "source": [
    "## Problem Statement 1:\n",
    "Is gender independent of education level? A random sample of 395 people were\n",
    "surveyed and each person was asked to report the highest education level they\n",
    "obtained. The data that resulted from the survey is summarized in the following table:\n",
    "![1.PNG](attachment:1.PNG)\n",
    "Question: Are gender and education level dependent at 5% level of significance? In\n",
    "other words, given the data collected above, is there a relationship between the\n",
    "gender of an individual and the level of education that they have obtained?"
   ]
  },
  {
   "cell_type": "code",
   "execution_count": 2,
   "id": "2d7e8cda",
   "metadata": {},
   "outputs": [
    {
     "name": "stdout",
     "output_type": "stream",
     "text": [
      "Decision Rule at α = 0.05 is: 3.841\n",
      "And pvalue is :8.006066246262538 which is greater than α :3.841.\n",
      "We reject the Null Hypothesis.\n"
     ]
    }
   ],
   "source": [
    "df = [[60,54,46,41],[40,44,53,57]]\n",
    "pvalue = stats.chi2_contingency(df)\n",
    "α = 0.05\n",
    "print(f\"Decision Rule at α = 0.05 is: 3.841\")\n",
    "print(f\"And pvalue is :{pvalue[0]} which is greater than α :{3.841}.\\nWe reject the Null Hypothesis.\")"
   ]
  },
  {
   "cell_type": "markdown",
   "id": "7085ee88",
   "metadata": {},
   "source": [
    "## Problem Statement 2:\n",
    "Using the following data, perform a oneway analysis of variance using α=.05. Write\n",
    "up the results in APA format.\n",
    "\n",
    "[Group1: 51, 45, 33, 45, 67]\n",
    "\n",
    "[Group2: 23, 43, 23, 43, 45]\n",
    "\n",
    "[Group3: 56, 76, 74, 87, 56]"
   ]
  },
  {
   "cell_type": "code",
   "execution_count": 3,
   "id": "d5b3dab3",
   "metadata": {},
   "outputs": [
    {
     "name": "stdout",
     "output_type": "stream",
     "text": [
      "Decision Rule (7, 2) at α = 0.05 is: 3.25744\n",
      "And pvalue is :0.0030597541434430556 which is less than α :3.25744.\n",
      "We reject the Null Hypothesis.\n"
     ]
    }
   ],
   "source": [
    "gp1=[51, 45, 33, 45, 67]\n",
    "gp2=[23, 43, 23, 43, 45]\n",
    "gp3=[56, 76, 74, 87, 56]\n",
    "df =pd.DataFrame([[51, 45, 33, 45, 67],[23, 43, 23, 43, 45],[56, 76, 74, 87, 56]])\n",
    "def degreeOfFreedom(data_f):\n",
    "    try:\n",
    "        global df_between,df_within, df_total\n",
    "        df_between =len(data_f.index)-1\n",
    "        df_within = (len(data_f.iloc[0]) + len(data_f.iloc[1]))-len(data_f.index)\n",
    "        df_total = df_between + df_within\n",
    "    except Exception as e:\n",
    "        print('Error in Function degreeOfFreedom',e)\n",
    "degreeOfFreedom(df)\n",
    "st , pv = stats.f_oneway(gp1,gp2,gp3)\n",
    "print(f\"Decision Rule {df_within,df_between} at α = 0.05 is: 3.25744\")\n",
    "print(f\"And pvalue is :{pv} which is less than α :{3.25744}.\\nWe reject the Null Hypothesis.\")"
   ]
  },
  {
   "cell_type": "markdown",
   "id": "e0d6165b",
   "metadata": {},
   "source": [
    "## Problem Statement 3:\n",
    "Calculate F Test for given 10, 20, 30, 40, 50 and 5,10,15, 20, 25.\n",
    "For 10, 20, 30, 40, 50:"
   ]
  },
  {
   "cell_type": "code",
   "execution_count": 4,
   "id": "a2b1ca29",
   "metadata": {},
   "outputs": [
    {
     "name": "stdout",
     "output_type": "stream",
     "text": [
      "F test Result:\n",
      "Statistics:3.6\n",
      "P value:0.0943497728424377\n",
      "\n",
      "F value for given 10, 20, 30, 40, 50 and 5,10,15, 20, 25 => \n",
      "4.0\n"
     ]
    }
   ],
   "source": [
    "F_testresult = stats.f_oneway([10, 20, 30, 40, 50],[5,10,15, 20, 25])\n",
    "gp1_var = np.var([10, 20, 30, 40, 50])\n",
    "gp2_var = np.var([5,10,15, 20, 25])\n",
    "F_value = gp1_var/gp2_var\n",
    "print(f\"F test Result:\\nStatistics:{F_testresult[0]}\\nP value:{F_testresult[1]}\\n\\nF value for given 10, 20, 30, 40, 50 and 5,10,15, 20, 25 => \\n{F_value}\")"
   ]
  },
  {
   "cell_type": "code",
   "execution_count": null,
   "id": "1630d5f5",
   "metadata": {},
   "outputs": [],
   "source": []
  }
 ],
 "metadata": {
  "kernelspec": {
   "display_name": "Python 3",
   "language": "python",
   "name": "python3"
  },
  "language_info": {
   "codemirror_mode": {
    "name": "ipython",
    "version": 3
   },
   "file_extension": ".py",
   "mimetype": "text/x-python",
   "name": "python",
   "nbconvert_exporter": "python",
   "pygments_lexer": "ipython3",
   "version": "3.8.8"
  }
 },
 "nbformat": 4,
 "nbformat_minor": 5
}
